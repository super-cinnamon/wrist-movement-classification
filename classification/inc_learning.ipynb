{
 "cells": [
  {
   "cell_type": "code",
   "execution_count": 1,
   "metadata": {},
   "outputs": [],
   "source": [
    "import os\n",
    "\n",
    "from sklearn.model_selection import train_test_split\n",
    "import pandas as pd\n",
    "\n",
    "from Incremental import CustomKNN as KNN\n",
    "from Incremental import CustomNB as NB"
   ]
  },
  {
   "cell_type": "code",
   "execution_count": 2,
   "metadata": {},
   "outputs": [],
   "source": [
    "knn_best_params = {\n",
    "    \"metric\": \"manhattan\",\n",
    "    \"n_neighbors\": 5,\n",
    "    \"weights\": \"distance\"\n",
    "}\n",
    "nb_best_params = {\n",
    "    \"var_smoothing\": 1e-09\n",
    "}"
   ]
  },
  {
   "cell_type": "code",
   "execution_count": 3,
   "metadata": {},
   "outputs": [],
   "source": [
    "MODELS_PATH = os.path.join(os.getcwd(), '..', \"models\")\n",
    "DATA_PATH = os.path.join(os.getcwd(), '..', \"data\")\n",
    "\n",
    "dataset_filename = \"processed_dataset.csv\"\n",
    "dataset_path = os.path.join(DATA_PATH, dataset_filename)\n",
    "dataset = pd.read_csv(dataset_path)"
   ]
  },
  {
   "cell_type": "code",
   "execution_count": 4,
   "metadata": {},
   "outputs": [],
   "source": [
    "X_train, X_test, y_train, y_test = train_test_split(\n",
    "    dataset.drop(\"class\", axis=1),\n",
    "    dataset[\"class\"],\n",
    "    test_size=0.2,\n",
    "    random_state=1234\n",
    ")"
   ]
  },
  {
   "cell_type": "code",
   "execution_count": 5,
   "metadata": {},
   "outputs": [
    {
     "data": {
      "text/plain": [
       "{'precision': 0.8252314814814815,\n",
       " 'recall': 0.8125,\n",
       " 'f1_score': 0.809589800443459,\n",
       " 'accuracy': 0.8125,\n",
       " 'confusion_matrix': array([[16,  7],\n",
       "        [ 2, 23]])}"
      ]
     },
     "execution_count": 5,
     "metadata": {},
     "output_type": "execute_result"
    }
   ],
   "source": [
    "knn = KNN(**knn_best_params)\n",
    "knn.fit(X_train, y_train)\n",
    "knn.evaluate(X_test, y_test)"
   ]
  },
  {
   "cell_type": "code",
   "execution_count": 6,
   "metadata": {},
   "outputs": [
    {
     "data": {
      "text/plain": [
       "{'precision': 0.9799679487179488,\n",
       " 'recall': 0.9791666666666666,\n",
       " 'f1_score': 0.9791394335511981,\n",
       " 'accuracy': 0.9791666666666666,\n",
       " 'confusion_matrix': array([[22,  1],\n",
       "        [ 0, 25]])}"
      ]
     },
     "execution_count": 6,
     "metadata": {},
     "output_type": "execute_result"
    }
   ],
   "source": [
    "knn.incremental_evaluate(X_test, y_test)"
   ]
  },
  {
   "cell_type": "code",
   "execution_count": 7,
   "metadata": {},
   "outputs": [
    {
     "data": {
      "text/plain": [
       "{'precision': 0.6493055555555555,\n",
       " 'recall': 0.6458333333333334,\n",
       " 'f1_score': 0.6403362897265336,\n",
       " 'accuracy': 0.6458333333333334,\n",
       " 'confusion_matrix': array([[12, 11],\n",
       "        [ 6, 19]])}"
      ]
     },
     "execution_count": 7,
     "metadata": {},
     "output_type": "execute_result"
    }
   ],
   "source": [
    "nb = NB(**nb_best_params)\n",
    "nb.fit(X_train, y_train)\n",
    "nb.evaluate(X_test, y_test)"
   ]
  },
  {
   "cell_type": "code",
   "execution_count": 8,
   "metadata": {},
   "outputs": [
    {
     "data": {
      "text/plain": [
       "{'precision': 0.7087742504409172,\n",
       " 'recall': 0.7083333333333334,\n",
       " 'f1_score': 0.7073135198135198,\n",
       " 'accuracy': 0.7083333333333334,\n",
       " 'confusion_matrix': array([[15,  8],\n",
       "        [ 6, 19]])}"
      ]
     },
     "execution_count": 8,
     "metadata": {},
     "output_type": "execute_result"
    }
   ],
   "source": [
    "nb.incremental_evaluate(X_test, y_test)"
   ]
  },
  {
   "cell_type": "code",
   "execution_count": null,
   "metadata": {},
   "outputs": [],
   "source": []
  }
 ],
 "metadata": {
  "kernelspec": {
   "display_name": "Python 3",
   "language": "python",
   "name": "python3"
  },
  "language_info": {
   "codemirror_mode": {
    "name": "ipython",
    "version": 3
   },
   "file_extension": ".py",
   "mimetype": "text/x-python",
   "name": "python",
   "nbconvert_exporter": "python",
   "pygments_lexer": "ipython3",
   "version": "3.11.9"
  }
 },
 "nbformat": 4,
 "nbformat_minor": 2
}
