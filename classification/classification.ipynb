{
 "cells": [
  {
   "cell_type": "markdown",
   "metadata": {},
   "source": [
    "# Init"
   ]
  },
  {
   "cell_type": "markdown",
   "metadata": {},
   "source": [
    "## Installs"
   ]
  },
  {
   "cell_type": "code",
   "execution_count": 1,
   "metadata": {},
   "outputs": [],
   "source": [
    "# %pip install scikit-learn torch xgboost shap"
   ]
  },
  {
   "cell_type": "code",
   "execution_count": 1,
   "metadata": {},
   "outputs": [],
   "source": [
    "import sys\n",
    "import os\n",
    "\n",
    "sys.path.append(os.path.join(os.getcwd(), \"..\"))"
   ]
  },
  {
   "cell_type": "markdown",
   "metadata": {},
   "source": [
    "## Imports"
   ]
  },
  {
   "cell_type": "code",
   "execution_count": 2,
   "metadata": {},
   "outputs": [],
   "source": [
    "import os\n",
    "import json\n",
    "import joblib\n",
    "from datetime import datetime\n",
    "\n",
    "import pandas as pd\n",
    "import seaborn as sns\n",
    "import matplotlib.pyplot as plt\n",
    "\n",
    "from sklearn.metrics import accuracy_score, recall_score, precision_score, f1_score, confusion_matrix, roc_curve, auc\n",
    "from sklearn.model_selection import GridSearchCV, train_test_split\n",
    "from sklearn.neighbors import KNeighborsClassifier\n",
    "from sklearn.linear_model import LogisticRegression\n",
    "from sklearn.naive_bayes import GaussianNB\n",
    "from sklearn.svm import SVC\n",
    "from sklearn.tree import DecisionTreeClassifier\n",
    "from sklearn.ensemble import RandomForestClassifier\n",
    "from xgboost import XGBClassifier\n",
    "\n",
    "\n",
    "import torch\n",
    "\n",
    "from models.mlp.MLP import MultiLayerPerceptron, data_loader"
   ]
  },
  {
   "cell_type": "code",
   "execution_count": 3,
   "metadata": {},
   "outputs": [],
   "source": [
    "MODELS_PATH = os.path.join(os.getcwd(), '..', \"models\")"
   ]
  },
  {
   "cell_type": "markdown",
   "metadata": {},
   "source": [
    "## Data Processing"
   ]
  },
  {
   "cell_type": "code",
   "execution_count": 4,
   "metadata": {},
   "outputs": [],
   "source": [
    "dataset_filename = \"processed_dataset.csv\"\n",
    "\n",
    "DATA_PATH = os.path.join(os.getcwd(), '..', \"data\")\n",
    "dataset_path = os.path.join(DATA_PATH, dataset_filename)"
   ]
  },
  {
   "cell_type": "code",
   "execution_count": 5,
   "metadata": {},
   "outputs": [],
   "source": [
    "dataset = pd.read_csv(dataset_path)"
   ]
  },
  {
   "cell_type": "code",
   "execution_count": 6,
   "metadata": {},
   "outputs": [
    {
     "name": "stdout",
     "output_type": "stream",
     "text": [
      "class\n",
      "1    75\n",
      "0    37\n",
      "Name: count, dtype: int64\n",
      "class\n",
      "1    16\n",
      "0    12\n",
      "Name: count, dtype: int64\n"
     ]
    }
   ],
   "source": [
    "# split the dataset into training and testing sets\n",
    "X_train, X_test, y_train, y_test = train_test_split(dataset.drop(\"class\", axis=1), dataset[\"class\"], test_size=0.2, random_state=1234)\n",
    "print(y_train.value_counts())\n",
    "print(y_test.value_counts())"
   ]
  },
  {
   "cell_type": "markdown",
   "metadata": {},
   "source": [
    "# Grid Search & training"
   ]
  },
  {
   "cell_type": "markdown",
   "metadata": {},
   "source": [
    "## kNN"
   ]
  },
  {
   "cell_type": "markdown",
   "metadata": {},
   "source": [
    "### Grid Search setup"
   ]
  },
  {
   "cell_type": "code",
   "execution_count": 170,
   "metadata": {},
   "outputs": [],
   "source": [
    "knn_param_grid = {\n",
    "    'n_neighbors': [1, 3, 5, 7],\n",
    "    'metric': ['minkowski', 'manhattan', 'cosine', 'haversine'],\n",
    "    'weights': ['uniform', 'distance']\n",
    "}"
   ]
  },
  {
   "cell_type": "code",
   "execution_count": 171,
   "metadata": {},
   "outputs": [
    {
     "name": "stderr",
     "output_type": "stream",
     "text": [
      "c:\\Users\\FUJITSU\\AppData\\Local\\Programs\\Python\\Python311\\Lib\\site-packages\\sklearn\\model_selection\\_validation.py:540: FitFailedWarning: \n",
      "40 fits failed out of a total of 160.\n",
      "The score on these train-test partitions for these parameters will be set to nan.\n",
      "If these failures are not expected, you can try to debug them by setting error_score='raise'.\n",
      "\n",
      "Below are more details about the failures:\n",
      "--------------------------------------------------------------------------------\n",
      "40 fits failed with the following error:\n",
      "Traceback (most recent call last):\n",
      "  File \"c:\\Users\\FUJITSU\\AppData\\Local\\Programs\\Python\\Python311\\Lib\\site-packages\\sklearn\\model_selection\\_validation.py\", line 888, in _fit_and_score\n",
      "    estimator.fit(X_train, y_train, **fit_params)\n",
      "  File \"c:\\Users\\FUJITSU\\AppData\\Local\\Programs\\Python\\Python311\\Lib\\site-packages\\sklearn\\base.py\", line 1473, in wrapper\n",
      "    return fit_method(estimator, *args, **kwargs)\n",
      "           ^^^^^^^^^^^^^^^^^^^^^^^^^^^^^^^^^^^^^^\n",
      "  File \"c:\\Users\\FUJITSU\\AppData\\Local\\Programs\\Python\\Python311\\Lib\\site-packages\\sklearn\\neighbors\\_classification.py\", line 238, in fit\n",
      "    return self._fit(X, y)\n",
      "           ^^^^^^^^^^^^^^^\n",
      "  File \"c:\\Users\\FUJITSU\\AppData\\Local\\Programs\\Python\\Python311\\Lib\\site-packages\\sklearn\\neighbors\\_base.py\", line 665, in _fit\n",
      "    self._tree = BallTree(\n",
      "                 ^^^^^^^^^\n",
      "  File \"sklearn\\\\neighbors\\\\_binary_tree.pxi\", line 913, in sklearn.neighbors._ball_tree.BinaryTree64.__init__\n",
      "  File \"sklearn\\\\metrics\\\\_dist_metrics.pyx\", line 2614, in sklearn.metrics._dist_metrics.HaversineDistance64._validate_data\n",
      "ValueError: Haversine distance only valid in 2 dimensions\n",
      "\n",
      "  warnings.warn(some_fits_failed_message, FitFailedWarning)\n",
      "c:\\Users\\FUJITSU\\AppData\\Local\\Programs\\Python\\Python311\\Lib\\site-packages\\sklearn\\model_selection\\_search.py:1103: UserWarning: One or more of the test scores are non-finite: [0.81304348 0.81304348 0.86600791 0.86600791 0.84822134 0.84822134\n",
      " 0.82134387 0.82134387 0.79525692 0.79525692 0.84782609 0.84782609\n",
      " 0.85652174 0.85652174 0.83794466 0.84703557 0.86679842 0.86679842\n",
      " 0.87470356 0.89288538 0.87470356 0.88418972 0.85652174 0.88379447\n",
      "        nan        nan        nan        nan        nan        nan\n",
      "        nan        nan]\n",
      "  warnings.warn(\n"
     ]
    },
    {
     "data": {
      "text/html": [
       "<style>#sk-container-id-1 {\n",
       "  /* Definition of color scheme common for light and dark mode */\n",
       "  --sklearn-color-text: black;\n",
       "  --sklearn-color-line: gray;\n",
       "  /* Definition of color scheme for unfitted estimators */\n",
       "  --sklearn-color-unfitted-level-0: #fff5e6;\n",
       "  --sklearn-color-unfitted-level-1: #f6e4d2;\n",
       "  --sklearn-color-unfitted-level-2: #ffe0b3;\n",
       "  --sklearn-color-unfitted-level-3: chocolate;\n",
       "  /* Definition of color scheme for fitted estimators */\n",
       "  --sklearn-color-fitted-level-0: #f0f8ff;\n",
       "  --sklearn-color-fitted-level-1: #d4ebff;\n",
       "  --sklearn-color-fitted-level-2: #b3dbfd;\n",
       "  --sklearn-color-fitted-level-3: cornflowerblue;\n",
       "\n",
       "  /* Specific color for light theme */\n",
       "  --sklearn-color-text-on-default-background: var(--sg-text-color, var(--theme-code-foreground, var(--jp-content-font-color1, black)));\n",
       "  --sklearn-color-background: var(--sg-background-color, var(--theme-background, var(--jp-layout-color0, white)));\n",
       "  --sklearn-color-border-box: var(--sg-text-color, var(--theme-code-foreground, var(--jp-content-font-color1, black)));\n",
       "  --sklearn-color-icon: #696969;\n",
       "\n",
       "  @media (prefers-color-scheme: dark) {\n",
       "    /* Redefinition of color scheme for dark theme */\n",
       "    --sklearn-color-text-on-default-background: var(--sg-text-color, var(--theme-code-foreground, var(--jp-content-font-color1, white)));\n",
       "    --sklearn-color-background: var(--sg-background-color, var(--theme-background, var(--jp-layout-color0, #111)));\n",
       "    --sklearn-color-border-box: var(--sg-text-color, var(--theme-code-foreground, var(--jp-content-font-color1, white)));\n",
       "    --sklearn-color-icon: #878787;\n",
       "  }\n",
       "}\n",
       "\n",
       "#sk-container-id-1 {\n",
       "  color: var(--sklearn-color-text);\n",
       "}\n",
       "\n",
       "#sk-container-id-1 pre {\n",
       "  padding: 0;\n",
       "}\n",
       "\n",
       "#sk-container-id-1 input.sk-hidden--visually {\n",
       "  border: 0;\n",
       "  clip: rect(1px 1px 1px 1px);\n",
       "  clip: rect(1px, 1px, 1px, 1px);\n",
       "  height: 1px;\n",
       "  margin: -1px;\n",
       "  overflow: hidden;\n",
       "  padding: 0;\n",
       "  position: absolute;\n",
       "  width: 1px;\n",
       "}\n",
       "\n",
       "#sk-container-id-1 div.sk-dashed-wrapped {\n",
       "  border: 1px dashed var(--sklearn-color-line);\n",
       "  margin: 0 0.4em 0.5em 0.4em;\n",
       "  box-sizing: border-box;\n",
       "  padding-bottom: 0.4em;\n",
       "  background-color: var(--sklearn-color-background);\n",
       "}\n",
       "\n",
       "#sk-container-id-1 div.sk-container {\n",
       "  /* jupyter's `normalize.less` sets `[hidden] { display: none; }`\n",
       "     but bootstrap.min.css set `[hidden] { display: none !important; }`\n",
       "     so we also need the `!important` here to be able to override the\n",
       "     default hidden behavior on the sphinx rendered scikit-learn.org.\n",
       "     See: https://github.com/scikit-learn/scikit-learn/issues/21755 */\n",
       "  display: inline-block !important;\n",
       "  position: relative;\n",
       "}\n",
       "\n",
       "#sk-container-id-1 div.sk-text-repr-fallback {\n",
       "  display: none;\n",
       "}\n",
       "\n",
       "div.sk-parallel-item,\n",
       "div.sk-serial,\n",
       "div.sk-item {\n",
       "  /* draw centered vertical line to link estimators */\n",
       "  background-image: linear-gradient(var(--sklearn-color-text-on-default-background), var(--sklearn-color-text-on-default-background));\n",
       "  background-size: 2px 100%;\n",
       "  background-repeat: no-repeat;\n",
       "  background-position: center center;\n",
       "}\n",
       "\n",
       "/* Parallel-specific style estimator block */\n",
       "\n",
       "#sk-container-id-1 div.sk-parallel-item::after {\n",
       "  content: \"\";\n",
       "  width: 100%;\n",
       "  border-bottom: 2px solid var(--sklearn-color-text-on-default-background);\n",
       "  flex-grow: 1;\n",
       "}\n",
       "\n",
       "#sk-container-id-1 div.sk-parallel {\n",
       "  display: flex;\n",
       "  align-items: stretch;\n",
       "  justify-content: center;\n",
       "  background-color: var(--sklearn-color-background);\n",
       "  position: relative;\n",
       "}\n",
       "\n",
       "#sk-container-id-1 div.sk-parallel-item {\n",
       "  display: flex;\n",
       "  flex-direction: column;\n",
       "}\n",
       "\n",
       "#sk-container-id-1 div.sk-parallel-item:first-child::after {\n",
       "  align-self: flex-end;\n",
       "  width: 50%;\n",
       "}\n",
       "\n",
       "#sk-container-id-1 div.sk-parallel-item:last-child::after {\n",
       "  align-self: flex-start;\n",
       "  width: 50%;\n",
       "}\n",
       "\n",
       "#sk-container-id-1 div.sk-parallel-item:only-child::after {\n",
       "  width: 0;\n",
       "}\n",
       "\n",
       "/* Serial-specific style estimator block */\n",
       "\n",
       "#sk-container-id-1 div.sk-serial {\n",
       "  display: flex;\n",
       "  flex-direction: column;\n",
       "  align-items: center;\n",
       "  background-color: var(--sklearn-color-background);\n",
       "  padding-right: 1em;\n",
       "  padding-left: 1em;\n",
       "}\n",
       "\n",
       "\n",
       "/* Toggleable style: style used for estimator/Pipeline/ColumnTransformer box that is\n",
       "clickable and can be expanded/collapsed.\n",
       "- Pipeline and ColumnTransformer use this feature and define the default style\n",
       "- Estimators will overwrite some part of the style using the `sk-estimator` class\n",
       "*/\n",
       "\n",
       "/* Pipeline and ColumnTransformer style (default) */\n",
       "\n",
       "#sk-container-id-1 div.sk-toggleable {\n",
       "  /* Default theme specific background. It is overwritten whether we have a\n",
       "  specific estimator or a Pipeline/ColumnTransformer */\n",
       "  background-color: var(--sklearn-color-background);\n",
       "}\n",
       "\n",
       "/* Toggleable label */\n",
       "#sk-container-id-1 label.sk-toggleable__label {\n",
       "  cursor: pointer;\n",
       "  display: block;\n",
       "  width: 100%;\n",
       "  margin-bottom: 0;\n",
       "  padding: 0.5em;\n",
       "  box-sizing: border-box;\n",
       "  text-align: center;\n",
       "}\n",
       "\n",
       "#sk-container-id-1 label.sk-toggleable__label-arrow:before {\n",
       "  /* Arrow on the left of the label */\n",
       "  content: \"▸\";\n",
       "  float: left;\n",
       "  margin-right: 0.25em;\n",
       "  color: var(--sklearn-color-icon);\n",
       "}\n",
       "\n",
       "#sk-container-id-1 label.sk-toggleable__label-arrow:hover:before {\n",
       "  color: var(--sklearn-color-text);\n",
       "}\n",
       "\n",
       "/* Toggleable content - dropdown */\n",
       "\n",
       "#sk-container-id-1 div.sk-toggleable__content {\n",
       "  max-height: 0;\n",
       "  max-width: 0;\n",
       "  overflow: hidden;\n",
       "  text-align: left;\n",
       "  /* unfitted */\n",
       "  background-color: var(--sklearn-color-unfitted-level-0);\n",
       "}\n",
       "\n",
       "#sk-container-id-1 div.sk-toggleable__content.fitted {\n",
       "  /* fitted */\n",
       "  background-color: var(--sklearn-color-fitted-level-0);\n",
       "}\n",
       "\n",
       "#sk-container-id-1 div.sk-toggleable__content pre {\n",
       "  margin: 0.2em;\n",
       "  border-radius: 0.25em;\n",
       "  color: var(--sklearn-color-text);\n",
       "  /* unfitted */\n",
       "  background-color: var(--sklearn-color-unfitted-level-0);\n",
       "}\n",
       "\n",
       "#sk-container-id-1 div.sk-toggleable__content.fitted pre {\n",
       "  /* unfitted */\n",
       "  background-color: var(--sklearn-color-fitted-level-0);\n",
       "}\n",
       "\n",
       "#sk-container-id-1 input.sk-toggleable__control:checked~div.sk-toggleable__content {\n",
       "  /* Expand drop-down */\n",
       "  max-height: 200px;\n",
       "  max-width: 100%;\n",
       "  overflow: auto;\n",
       "}\n",
       "\n",
       "#sk-container-id-1 input.sk-toggleable__control:checked~label.sk-toggleable__label-arrow:before {\n",
       "  content: \"▾\";\n",
       "}\n",
       "\n",
       "/* Pipeline/ColumnTransformer-specific style */\n",
       "\n",
       "#sk-container-id-1 div.sk-label input.sk-toggleable__control:checked~label.sk-toggleable__label {\n",
       "  color: var(--sklearn-color-text);\n",
       "  background-color: var(--sklearn-color-unfitted-level-2);\n",
       "}\n",
       "\n",
       "#sk-container-id-1 div.sk-label.fitted input.sk-toggleable__control:checked~label.sk-toggleable__label {\n",
       "  background-color: var(--sklearn-color-fitted-level-2);\n",
       "}\n",
       "\n",
       "/* Estimator-specific style */\n",
       "\n",
       "/* Colorize estimator box */\n",
       "#sk-container-id-1 div.sk-estimator input.sk-toggleable__control:checked~label.sk-toggleable__label {\n",
       "  /* unfitted */\n",
       "  background-color: var(--sklearn-color-unfitted-level-2);\n",
       "}\n",
       "\n",
       "#sk-container-id-1 div.sk-estimator.fitted input.sk-toggleable__control:checked~label.sk-toggleable__label {\n",
       "  /* fitted */\n",
       "  background-color: var(--sklearn-color-fitted-level-2);\n",
       "}\n",
       "\n",
       "#sk-container-id-1 div.sk-label label.sk-toggleable__label,\n",
       "#sk-container-id-1 div.sk-label label {\n",
       "  /* The background is the default theme color */\n",
       "  color: var(--sklearn-color-text-on-default-background);\n",
       "}\n",
       "\n",
       "/* On hover, darken the color of the background */\n",
       "#sk-container-id-1 div.sk-label:hover label.sk-toggleable__label {\n",
       "  color: var(--sklearn-color-text);\n",
       "  background-color: var(--sklearn-color-unfitted-level-2);\n",
       "}\n",
       "\n",
       "/* Label box, darken color on hover, fitted */\n",
       "#sk-container-id-1 div.sk-label.fitted:hover label.sk-toggleable__label.fitted {\n",
       "  color: var(--sklearn-color-text);\n",
       "  background-color: var(--sklearn-color-fitted-level-2);\n",
       "}\n",
       "\n",
       "/* Estimator label */\n",
       "\n",
       "#sk-container-id-1 div.sk-label label {\n",
       "  font-family: monospace;\n",
       "  font-weight: bold;\n",
       "  display: inline-block;\n",
       "  line-height: 1.2em;\n",
       "}\n",
       "\n",
       "#sk-container-id-1 div.sk-label-container {\n",
       "  text-align: center;\n",
       "}\n",
       "\n",
       "/* Estimator-specific */\n",
       "#sk-container-id-1 div.sk-estimator {\n",
       "  font-family: monospace;\n",
       "  border: 1px dotted var(--sklearn-color-border-box);\n",
       "  border-radius: 0.25em;\n",
       "  box-sizing: border-box;\n",
       "  margin-bottom: 0.5em;\n",
       "  /* unfitted */\n",
       "  background-color: var(--sklearn-color-unfitted-level-0);\n",
       "}\n",
       "\n",
       "#sk-container-id-1 div.sk-estimator.fitted {\n",
       "  /* fitted */\n",
       "  background-color: var(--sklearn-color-fitted-level-0);\n",
       "}\n",
       "\n",
       "/* on hover */\n",
       "#sk-container-id-1 div.sk-estimator:hover {\n",
       "  /* unfitted */\n",
       "  background-color: var(--sklearn-color-unfitted-level-2);\n",
       "}\n",
       "\n",
       "#sk-container-id-1 div.sk-estimator.fitted:hover {\n",
       "  /* fitted */\n",
       "  background-color: var(--sklearn-color-fitted-level-2);\n",
       "}\n",
       "\n",
       "/* Specification for estimator info (e.g. \"i\" and \"?\") */\n",
       "\n",
       "/* Common style for \"i\" and \"?\" */\n",
       "\n",
       ".sk-estimator-doc-link,\n",
       "a:link.sk-estimator-doc-link,\n",
       "a:visited.sk-estimator-doc-link {\n",
       "  float: right;\n",
       "  font-size: smaller;\n",
       "  line-height: 1em;\n",
       "  font-family: monospace;\n",
       "  background-color: var(--sklearn-color-background);\n",
       "  border-radius: 1em;\n",
       "  height: 1em;\n",
       "  width: 1em;\n",
       "  text-decoration: none !important;\n",
       "  margin-left: 1ex;\n",
       "  /* unfitted */\n",
       "  border: var(--sklearn-color-unfitted-level-1) 1pt solid;\n",
       "  color: var(--sklearn-color-unfitted-level-1);\n",
       "}\n",
       "\n",
       ".sk-estimator-doc-link.fitted,\n",
       "a:link.sk-estimator-doc-link.fitted,\n",
       "a:visited.sk-estimator-doc-link.fitted {\n",
       "  /* fitted */\n",
       "  border: var(--sklearn-color-fitted-level-1) 1pt solid;\n",
       "  color: var(--sklearn-color-fitted-level-1);\n",
       "}\n",
       "\n",
       "/* On hover */\n",
       "div.sk-estimator:hover .sk-estimator-doc-link:hover,\n",
       ".sk-estimator-doc-link:hover,\n",
       "div.sk-label-container:hover .sk-estimator-doc-link:hover,\n",
       ".sk-estimator-doc-link:hover {\n",
       "  /* unfitted */\n",
       "  background-color: var(--sklearn-color-unfitted-level-3);\n",
       "  color: var(--sklearn-color-background);\n",
       "  text-decoration: none;\n",
       "}\n",
       "\n",
       "div.sk-estimator.fitted:hover .sk-estimator-doc-link.fitted:hover,\n",
       ".sk-estimator-doc-link.fitted:hover,\n",
       "div.sk-label-container:hover .sk-estimator-doc-link.fitted:hover,\n",
       ".sk-estimator-doc-link.fitted:hover {\n",
       "  /* fitted */\n",
       "  background-color: var(--sklearn-color-fitted-level-3);\n",
       "  color: var(--sklearn-color-background);\n",
       "  text-decoration: none;\n",
       "}\n",
       "\n",
       "/* Span, style for the box shown on hovering the info icon */\n",
       ".sk-estimator-doc-link span {\n",
       "  display: none;\n",
       "  z-index: 9999;\n",
       "  position: relative;\n",
       "  font-weight: normal;\n",
       "  right: .2ex;\n",
       "  padding: .5ex;\n",
       "  margin: .5ex;\n",
       "  width: min-content;\n",
       "  min-width: 20ex;\n",
       "  max-width: 50ex;\n",
       "  color: var(--sklearn-color-text);\n",
       "  box-shadow: 2pt 2pt 4pt #999;\n",
       "  /* unfitted */\n",
       "  background: var(--sklearn-color-unfitted-level-0);\n",
       "  border: .5pt solid var(--sklearn-color-unfitted-level-3);\n",
       "}\n",
       "\n",
       ".sk-estimator-doc-link.fitted span {\n",
       "  /* fitted */\n",
       "  background: var(--sklearn-color-fitted-level-0);\n",
       "  border: var(--sklearn-color-fitted-level-3);\n",
       "}\n",
       "\n",
       ".sk-estimator-doc-link:hover span {\n",
       "  display: block;\n",
       "}\n",
       "\n",
       "/* \"?\"-specific style due to the `<a>` HTML tag */\n",
       "\n",
       "#sk-container-id-1 a.estimator_doc_link {\n",
       "  float: right;\n",
       "  font-size: 1rem;\n",
       "  line-height: 1em;\n",
       "  font-family: monospace;\n",
       "  background-color: var(--sklearn-color-background);\n",
       "  border-radius: 1rem;\n",
       "  height: 1rem;\n",
       "  width: 1rem;\n",
       "  text-decoration: none;\n",
       "  /* unfitted */\n",
       "  color: var(--sklearn-color-unfitted-level-1);\n",
       "  border: var(--sklearn-color-unfitted-level-1) 1pt solid;\n",
       "}\n",
       "\n",
       "#sk-container-id-1 a.estimator_doc_link.fitted {\n",
       "  /* fitted */\n",
       "  border: var(--sklearn-color-fitted-level-1) 1pt solid;\n",
       "  color: var(--sklearn-color-fitted-level-1);\n",
       "}\n",
       "\n",
       "/* On hover */\n",
       "#sk-container-id-1 a.estimator_doc_link:hover {\n",
       "  /* unfitted */\n",
       "  background-color: var(--sklearn-color-unfitted-level-3);\n",
       "  color: var(--sklearn-color-background);\n",
       "  text-decoration: none;\n",
       "}\n",
       "\n",
       "#sk-container-id-1 a.estimator_doc_link.fitted:hover {\n",
       "  /* fitted */\n",
       "  background-color: var(--sklearn-color-fitted-level-3);\n",
       "}\n",
       "</style><div id=\"sk-container-id-1\" class=\"sk-top-container\"><div class=\"sk-text-repr-fallback\"><pre>GridSearchCV(cv=5, estimator=KNeighborsClassifier(),\n",
       "             param_grid={&#x27;metric&#x27;: [&#x27;minkowski&#x27;, &#x27;manhattan&#x27;, &#x27;cosine&#x27;,\n",
       "                                    &#x27;haversine&#x27;],\n",
       "                         &#x27;n_neighbors&#x27;: [1, 3, 5, 7],\n",
       "                         &#x27;weights&#x27;: [&#x27;uniform&#x27;, &#x27;distance&#x27;]})</pre><b>In a Jupyter environment, please rerun this cell to show the HTML representation or trust the notebook. <br />On GitHub, the HTML representation is unable to render, please try loading this page with nbviewer.org.</b></div><div class=\"sk-container\" hidden><div class=\"sk-item sk-dashed-wrapped\"><div class=\"sk-label-container\"><div class=\"sk-label fitted sk-toggleable\"><input class=\"sk-toggleable__control sk-hidden--visually\" id=\"sk-estimator-id-1\" type=\"checkbox\" ><label for=\"sk-estimator-id-1\" class=\"sk-toggleable__label fitted sk-toggleable__label-arrow fitted\">&nbsp;&nbsp;GridSearchCV<a class=\"sk-estimator-doc-link fitted\" rel=\"noreferrer\" target=\"_blank\" href=\"https://scikit-learn.org/1.5/modules/generated/sklearn.model_selection.GridSearchCV.html\">?<span>Documentation for GridSearchCV</span></a><span class=\"sk-estimator-doc-link fitted\">i<span>Fitted</span></span></label><div class=\"sk-toggleable__content fitted\"><pre>GridSearchCV(cv=5, estimator=KNeighborsClassifier(),\n",
       "             param_grid={&#x27;metric&#x27;: [&#x27;minkowski&#x27;, &#x27;manhattan&#x27;, &#x27;cosine&#x27;,\n",
       "                                    &#x27;haversine&#x27;],\n",
       "                         &#x27;n_neighbors&#x27;: [1, 3, 5, 7],\n",
       "                         &#x27;weights&#x27;: [&#x27;uniform&#x27;, &#x27;distance&#x27;]})</pre></div> </div></div><div class=\"sk-parallel\"><div class=\"sk-parallel-item\"><div class=\"sk-item\"><div class=\"sk-label-container\"><div class=\"sk-label fitted sk-toggleable\"><input class=\"sk-toggleable__control sk-hidden--visually\" id=\"sk-estimator-id-2\" type=\"checkbox\" ><label for=\"sk-estimator-id-2\" class=\"sk-toggleable__label fitted sk-toggleable__label-arrow fitted\">best_estimator_: KNeighborsClassifier</label><div class=\"sk-toggleable__content fitted\"><pre>KNeighborsClassifier(metric=&#x27;cosine&#x27;, n_neighbors=3, weights=&#x27;distance&#x27;)</pre></div> </div></div><div class=\"sk-serial\"><div class=\"sk-item\"><div class=\"sk-estimator fitted sk-toggleable\"><input class=\"sk-toggleable__control sk-hidden--visually\" id=\"sk-estimator-id-3\" type=\"checkbox\" ><label for=\"sk-estimator-id-3\" class=\"sk-toggleable__label fitted sk-toggleable__label-arrow fitted\">&nbsp;KNeighborsClassifier<a class=\"sk-estimator-doc-link fitted\" rel=\"noreferrer\" target=\"_blank\" href=\"https://scikit-learn.org/1.5/modules/generated/sklearn.neighbors.KNeighborsClassifier.html\">?<span>Documentation for KNeighborsClassifier</span></a></label><div class=\"sk-toggleable__content fitted\"><pre>KNeighborsClassifier(metric=&#x27;cosine&#x27;, n_neighbors=3, weights=&#x27;distance&#x27;)</pre></div> </div></div></div></div></div></div></div></div></div>"
      ],
      "text/plain": [
       "GridSearchCV(cv=5, estimator=KNeighborsClassifier(),\n",
       "             param_grid={'metric': ['minkowski', 'manhattan', 'cosine',\n",
       "                                    'haversine'],\n",
       "                         'n_neighbors': [1, 3, 5, 7],\n",
       "                         'weights': ['uniform', 'distance']})"
      ]
     },
     "execution_count": 171,
     "metadata": {},
     "output_type": "execute_result"
    }
   ],
   "source": [
    "knn_grid_search = GridSearchCV(KNeighborsClassifier(), knn_param_grid, cv=5)\n",
    "knn_grid_search.fit(X_train, y_train)"
   ]
  },
  {
   "cell_type": "markdown",
   "metadata": {},
   "source": [
    "### Best results"
   ]
  },
  {
   "cell_type": "code",
   "execution_count": 172,
   "metadata": {},
   "outputs": [],
   "source": [
    "best_knn_params = knn_grid_search.best_params_\n",
    "best_knn_model = knn_grid_search.best_estimator_"
   ]
  },
  {
   "cell_type": "code",
   "execution_count": 173,
   "metadata": {},
   "outputs": [
    {
     "data": {
      "text/plain": [
       "['c:\\\\Users\\\\FUJITSU\\\\Desktop\\\\Code\\\\repos\\\\wrist-movement-classification\\\\classification\\\\..\\\\models\\\\knn\\\\model.joblib']"
      ]
     },
     "execution_count": 173,
     "metadata": {},
     "output_type": "execute_result"
    }
   ],
   "source": [
    "# save best model and hyperparametrs into files\n",
    "if not os.path.exists(os.path.join(MODELS_PATH, \"knn\")):\n",
    "    os.makedirs(os.path.join(MODELS_PATH, \"knn\"))\n",
    "with open(os.path.join(MODELS_PATH, \"knn\", 'best_params.json'), 'w') as f:\n",
    "    json.dump(best_knn_params, f, indent=4)\n",
    "\n",
    "joblib.dump(best_knn_model, os.path.join(MODELS_PATH, \"knn\", 'model.joblib'))"
   ]
  },
  {
   "cell_type": "markdown",
   "metadata": {},
   "source": [
    "## Logistic Regression"
   ]
  },
  {
   "cell_type": "markdown",
   "metadata": {},
   "source": [
    "### Grid Search setup"
   ]
  },
  {
   "cell_type": "code",
   "execution_count": 11,
   "metadata": {},
   "outputs": [],
   "source": [
    "logistic_regression_param_grid = {\n",
    "    'solver': ['lbfgs', 'liblinear', 'newton-cholesky'],\n",
    "    'max_iter': [50, 100, 150, 200, 250, 300, 500],\n",
    "    'penalty': ['none', 'l1', 'l2', 'elasticnet'],\n",
    "    'C': [0.1, 0.5, 1.0, 1.5, 2.0, 2.5, 3.0, 3.5, 4.0, 4.5, 5.0, 5.5, 6.0, 6.5, 7.0, 7.5, 8.0, 8.5, 9.0, 9.5, 10.0],\n",
    "    'class_weight': [None, 'balanced']\n",
    "}"
   ]
  },
  {
   "cell_type": "code",
   "execution_count": null,
   "metadata": {},
   "outputs": [],
   "source": [
    "logistic_regression_grid_search = GridSearchCV(LogisticRegression(), logistic_regression_param_grid, cv=5)\n",
    "logistic_regression_grid_search.fit(X_train, y_train)"
   ]
  },
  {
   "cell_type": "markdown",
   "metadata": {},
   "source": [
    "### Best results"
   ]
  },
  {
   "cell_type": "code",
   "execution_count": 13,
   "metadata": {},
   "outputs": [],
   "source": [
    "best_logreg_params = logistic_regression_grid_search.best_params_\n",
    "best_logreg_model = logistic_regression_grid_search.best_estimator_"
   ]
  },
  {
   "cell_type": "code",
   "execution_count": null,
   "metadata": {},
   "outputs": [],
   "source": [
    "# save best model and hyperparametrs into files\n",
    "if not os.path.exists(os.path.join(MODELS_PATH, \"logistic_regression\")):\n",
    "    os.makedirs(os.path.join(MODELS_PATH, \"logistic_regression\"))\n",
    "with open(os.path.join(MODELS_PATH, \"logistic_regression\", 'best_params.json'), 'w') as f:\n",
    "    json.dump(best_logreg_params, f, indent=4)\n",
    "\n",
    "joblib.dump(best_logreg_model, os.path.join(MODELS_PATH, \"logistic_regression\", 'model.joblib'))"
   ]
  },
  {
   "cell_type": "markdown",
   "metadata": {},
   "source": [
    "## Naive Bayes"
   ]
  },
  {
   "cell_type": "markdown",
   "metadata": {},
   "source": [
    "### Grid Search setup"
   ]
  },
  {
   "cell_type": "code",
   "execution_count": 15,
   "metadata": {},
   "outputs": [],
   "source": [
    "bayes_param_grid = {\n",
    "    'var_smoothing': [1e-9, 1e-8, 1e-7, 1e-6, 1e-5, 1e-4, 1e-3]\n",
    "}"
   ]
  },
  {
   "cell_type": "code",
   "execution_count": null,
   "metadata": {},
   "outputs": [],
   "source": [
    "bayes_grid_search = GridSearchCV(GaussianNB(), bayes_param_grid, cv=5)\n",
    "bayes_grid_search.fit(X_train, y_train)"
   ]
  },
  {
   "cell_type": "markdown",
   "metadata": {},
   "source": [
    "### Best results"
   ]
  },
  {
   "cell_type": "code",
   "execution_count": 17,
   "metadata": {},
   "outputs": [],
   "source": [
    "best_bayes_params = bayes_grid_search.best_params_\n",
    "best_bayes_model = bayes_grid_search.best_estimator_"
   ]
  },
  {
   "cell_type": "code",
   "execution_count": null,
   "metadata": {},
   "outputs": [],
   "source": [
    "# save best model and hyperparametrs into files\n",
    "if not os.path.exists(os.path.join(MODELS_PATH, \"naive_bayes\")):\n",
    "    os.makedirs(os.path.join(MODELS_PATH, \"naive_bayes\"))\n",
    "with open(os.path.join(MODELS_PATH, \"naive_bayes\", 'best_params.json'), 'w') as f:\n",
    "    json.dump(best_bayes_params, f, indent=4)\n",
    "\n",
    "joblib.dump(best_bayes_model, os.path.join(MODELS_PATH, \"naive_bayes\", 'model.joblib'))"
   ]
  },
  {
   "cell_type": "markdown",
   "metadata": {},
   "source": [
    "## SVM"
   ]
  },
  {
   "cell_type": "markdown",
   "metadata": {},
   "source": [
    "### Grid Search setup"
   ]
  },
  {
   "cell_type": "code",
   "execution_count": 19,
   "metadata": {},
   "outputs": [],
   "source": [
    "svm_param_grid = {\n",
    "    'kernel': ['rbf', 'poly', 'sigmoid'],\n",
    "    'C': [0.01, 0.1, 1, 10],\n",
    "    'degree': [2, 3, 4],\n",
    "    'gamma': ['scale', 'auto', 0.01, 0.1, 1, 10],\n",
    "    'coef0': [-1, 0, 1, 2, 3],\n",
    "    'shrinking': [False],\n",
    "    'class_weight': [None, 'balanced']\n",
    "}"
   ]
  },
  {
   "cell_type": "code",
   "execution_count": null,
   "metadata": {},
   "outputs": [],
   "source": [
    "svm_grid_search = GridSearchCV(SVC(), svm_param_grid, cv=5)\n",
    "svm_grid_search.fit(X_train, y_train)"
   ]
  },
  {
   "cell_type": "markdown",
   "metadata": {},
   "source": [
    "### Best results"
   ]
  },
  {
   "cell_type": "code",
   "execution_count": 21,
   "metadata": {},
   "outputs": [],
   "source": [
    "best_svm_params = svm_grid_search.best_params_\n",
    "best_svm_model = svm_grid_search.best_estimator_"
   ]
  },
  {
   "cell_type": "code",
   "execution_count": null,
   "metadata": {},
   "outputs": [],
   "source": [
    "# save best model and hyperparametrs into files\n",
    "if not os.path.exists(os.path.join(MODELS_PATH, \"svm\")):\n",
    "    os.makedirs(os.path.join(MODELS_PATH, \"svm\"))\n",
    "with open(os.path.join(MODELS_PATH, \"svm\", 'best_params.json'), 'w') as f:\n",
    "    json.dump(best_svm_params, f, indent=4)\n",
    "\n",
    "joblib.dump(best_svm_model, os.path.join(MODELS_PATH, \"svm\", 'model.joblib'))"
   ]
  },
  {
   "cell_type": "markdown",
   "metadata": {},
   "source": [
    "## Decision Tree"
   ]
  },
  {
   "cell_type": "markdown",
   "metadata": {},
   "source": [
    "### Grid Search setup"
   ]
  },
  {
   "cell_type": "code",
   "execution_count": 23,
   "metadata": {},
   "outputs": [],
   "source": [
    "decision_tree_param_grid = {\n",
    "    'criterion': ['gini', 'entropy', 'log_loss'],\n",
    "    'splitter': ['best', 'random'],\n",
    "    'max_depth': [None, 2, 3, 4, 5, 6, 7, 8],\n",
    "    'min_samples_split': [2, 3, 4, 5, 6, 7, 8],\n",
    "    'min_samples_leaf': [1, 2, 3, 4, 5, 6, 7],\n",
    "    'min_weight_fraction_leaf': [0.01, 0.02, 0.03, 0.04, 0.05],\n",
    "    'max_features': [None, 'sqrt', 'log2'],\n",
    "    'class_weight': [None, 'balanced']\n",
    "}"
   ]
  },
  {
   "cell_type": "code",
   "execution_count": null,
   "metadata": {},
   "outputs": [],
   "source": [
    "decision_tree_grid_search = GridSearchCV(DecisionTreeClassifier(), decision_tree_param_grid, cv=5)\n",
    "decision_tree_grid_search.fit(X_train, y_train)"
   ]
  },
  {
   "cell_type": "markdown",
   "metadata": {},
   "source": [
    "### Best results"
   ]
  },
  {
   "cell_type": "code",
   "execution_count": 25,
   "metadata": {},
   "outputs": [],
   "source": [
    "best_dt_params = decision_tree_grid_search.best_params_\n",
    "best_dt_model = decision_tree_grid_search.best_estimator_"
   ]
  },
  {
   "cell_type": "code",
   "execution_count": null,
   "metadata": {},
   "outputs": [],
   "source": [
    "# save best model and hyperparametrs into files\n",
    "if not os.path.exists(os.path.join(MODELS_PATH, \"decision_tree\")):\n",
    "    os.makedirs(os.path.join(MODELS_PATH, \"decision_tree\"))\n",
    "with open(os.path.join(MODELS_PATH, \"decision_tree\", 'best_params.json'), 'w') as f:\n",
    "    json.dump(best_dt_params, f, indent=4)\n",
    "\n",
    "joblib.dump(best_dt_model, os.path.join(MODELS_PATH, \"decision_tree\", 'model.joblib'))"
   ]
  },
  {
   "cell_type": "markdown",
   "metadata": {},
   "source": [
    "## Random Forest"
   ]
  },
  {
   "cell_type": "markdown",
   "metadata": {},
   "source": [
    "### Grid Search setup"
   ]
  },
  {
   "cell_type": "code",
   "execution_count": 31,
   "metadata": {},
   "outputs": [],
   "source": [
    "random_forest_param_grid = {\n",
    "    'criterion': ['gini', 'entropy', 'log_loss'],\n",
    "    'max_depth': [None, 3, 5, 6, 7, 8],\n",
    "    'min_samples_split': [2, 4, 5, 7, 8],\n",
    "    'min_samples_leaf': [1, 2, 5, 7],\n",
    "    'min_weight_fraction_leaf': [0.01, 0.03, 0.05], \n",
    "    'max_features': [None, 'sqrt', 'log2'],\n",
    "    'class_weight': [None, 'balanced'],\n",
    "    'n_estimators': [20, 50, 100, 150, 200],\n",
    "    'bootstrap': [False, True],\n",
    "    'warm_start': [False, True]\n",
    "}"
   ]
  },
  {
   "cell_type": "code",
   "execution_count": null,
   "metadata": {},
   "outputs": [],
   "source": [
    "random_forest_grid_search = GridSearchCV(RandomForestClassifier(), random_forest_param_grid, cv=5)\n",
    "random_forest_grid_search.fit(X_train, y_train)"
   ]
  },
  {
   "cell_type": "markdown",
   "metadata": {},
   "source": [
    "### Best results"
   ]
  },
  {
   "cell_type": "code",
   "execution_count": null,
   "metadata": {},
   "outputs": [],
   "source": [
    "best_rf_params = random_forest_grid_search.best_params_\n",
    "best_rf_model = random_forest_grid_search.best_estimator_"
   ]
  },
  {
   "cell_type": "code",
   "execution_count": null,
   "metadata": {},
   "outputs": [],
   "source": [
    "# save best model and hyperparametrs into files\n",
    "if not os.path.exists(os.path.join(MODELS_PATH, \"random_forest\")):\n",
    "    os.makedirs(os.path.join(MODELS_PATH, \"random_forest\"))\n",
    "with open(os.path.join(MODELS_PATH, \"random_forest\", 'best_params.json'), 'w') as f:\n",
    "    json.dump(best_rf_params, f, indent=4)\n",
    "\n",
    "joblib.dump(best_rf_model, os.path.join(MODELS_PATH, \"random_forst\", 'model.joblib'))"
   ]
  },
  {
   "cell_type": "markdown",
   "metadata": {},
   "source": [
    "## XGBoost"
   ]
  },
  {
   "cell_type": "markdown",
   "metadata": {},
   "source": [
    "### Grid Search setup"
   ]
  },
  {
   "cell_type": "code",
   "execution_count": 8,
   "metadata": {},
   "outputs": [],
   "source": [
    "xgboost_param_grid = {\n",
    "    'learning_rate': [0.01, 0.05, 0.1, 0.2],\n",
    "    'n_estimators': [50, 100, 150, 200, 300],\n",
    "    'min_child_weight': [1, 2, 3, 4],\n",
    "    'gamma': [0, 0.1, 0.2, 0.3],\n",
    "    'max_depth': [3, 4, 5, 6, 7],\n",
    "    'subsample': [0.8, 0.9, 1.0],\n",
    "    'colsample_bytree': [0.8, 0.9, 1.0],\n",
    "    'scale_pos_weight': [1, 2, 3, 4],\n",
    "    'reg_alpha': [0, 0.1, 0.2, 0.3],\n",
    "    'reg_lambda': [0, 0.1, 0.2, 0.3]\n",
    "}"
   ]
  },
  {
   "cell_type": "code",
   "execution_count": null,
   "metadata": {},
   "outputs": [],
   "source": [
    "xgboost_grid_search = GridSearchCV(XGBClassifier(), xgboost_param_grid, cv=5)\n",
    "xgboost_grid_search.fit(X_train, y_train)"
   ]
  },
  {
   "cell_type": "markdown",
   "metadata": {},
   "source": [
    "### Best results"
   ]
  },
  {
   "cell_type": "code",
   "execution_count": null,
   "metadata": {},
   "outputs": [],
   "source": [
    "best_xgb_params = xgboost_grid_search.best_params_\n",
    "best_xgb_model = xgboost_grid_search.best_estimator_"
   ]
  },
  {
   "cell_type": "code",
   "execution_count": null,
   "metadata": {},
   "outputs": [],
   "source": [
    "# save best model and hyperparametrs into files\n",
    "if not os.path.exists(os.path.join(MODELS_PATH, \"xgboost\")):\n",
    "    os.makedirs(os.path.join(MODELS_PATH, \"xgboost\"))\n",
    "with open(os.path.join(MODELS_PATH, \"xgboost\", 'best_params.json'), 'w') as f:\n",
    "    json.dump(best_rf_params, f, indent=4)\n",
    "\n",
    "joblib.dump(best_rf_model, os.path.join(MODELS_PATH, \"xgboost\", 'model.joblib'))"
   ]
  },
  {
   "cell_type": "markdown",
   "metadata": {},
   "source": [
    "## MLP"
   ]
  },
  {
   "cell_type": "code",
   "execution_count": 11,
   "metadata": {},
   "outputs": [],
   "source": [
    "import torch\n",
    "import torch.nn as nn\n",
    "import torch.optim as optim\n",
    "from torch.utils.data import DataLoader, TensorDataset\n",
    "from sklearn.metrics import f1_score"
   ]
  },
  {
   "cell_type": "code",
   "execution_count": 22,
   "metadata": {},
   "outputs": [],
   "source": [
    "class MultiLayerPerceptron(nn.Module):\n",
    "    def __init__(self, input_size, hidden_size=32, output_size=1, activation='relu',\n",
    "                 optimizer='adam', batch_size=32, regularization=0.0001,\n",
    "                 epochs=100, lr=0.01, loss='hinge',\n",
    "                 report=True):\n",
    "        super(MultiLayerPerceptron, self).__init__()\n",
    "        self.input_size = input_size\n",
    "        self.hidden_size = hidden_size  # Default to 32 if not specified\n",
    "        self.output_size = output_size\n",
    "        self.activation = activation\n",
    "        self.optimizer_name = optimizer\n",
    "        self.batch_size = batch_size\n",
    "        self.regularization = regularization\n",
    "        self.epochs = epochs\n",
    "        self.lr = lr\n",
    "        self.loss_name = loss\n",
    "        self.report = report\n",
    "\n",
    "        # Define layers\n",
    "        self.fc1 = nn.Linear(input_size, self.hidden_size)  # Input layer\n",
    "        self.fc2 = nn.Linear(self.hidden_size, self.hidden_size)  # Hidden layer\n",
    "        self.fc3 = nn.Linear(self.hidden_size, output_size)  # Output layer\n",
    "\n",
    "        # Activation functions\n",
    "        self.activation_dict = {\n",
    "            'relu': nn.ReLU(),\n",
    "            'leaky_relu': nn.LeakyReLU(),\n",
    "            'tanh': nn.Tanh(),\n",
    "            'swish': nn.SiLU(),\n",
    "            'gelu': nn.GELU(),\n",
    "            'selu': nn.SELU(),\n",
    "            'sigmoid': nn.Sigmoid(),\n",
    "        }\n",
    "        self.activation_fn = self.activation_dict.get(self.activation, nn.ReLU())\n",
    "\n",
    "        # Optimizers\n",
    "        self.optimizer_dict = {\n",
    "            'adam': optim.Adam,\n",
    "            'rmsprop': optim.RMSprop,\n",
    "            'sgd': optim.SGD\n",
    "        }\n",
    "        self.optimizer_fn = self.optimizer_dict.get(self.optimizer_name, optim.Adam)\n",
    "\n",
    "        # Loss functions\n",
    "        self.loss_dict = {\n",
    "            'mse': nn.MSELoss(),\n",
    "            'hinge': nn.HingeEmbeddingLoss(),\n",
    "            'log': nn.BCEWithLogitsLoss(),\n",
    "        }\n",
    "        self.loss_fn = self.loss_dict.get(self.loss_name, nn.BCEWithLogitsLoss())\n",
    "\n",
    "    def forward(self, x):\n",
    "        out = self.fc1(x)\n",
    "        out = self.activation_fn(out)\n",
    "        out = self.fc2(out)\n",
    "        out = self.activation_fn(out)\n",
    "        out = self.fc3(out)\n",
    "        out = self.activation_dict['sigmoid'](out)\n",
    "        return out\n",
    "\n",
    "    def train_model(self, train_loader, val_loader=None):\n",
    "        optimizer = self.optimizer_fn(self.parameters(), lr=self.lr, weight_decay=self.regularization)\n",
    "        criterion = self.loss_fn\n",
    "\n",
    "        best_f1 = 0\n",
    "        for epoch in range(self.epochs):\n",
    "            self.train()\n",
    "            running_loss = 0.0\n",
    "            for inputs, labels in train_loader:\n",
    "                optimizer.zero_grad()\n",
    "                outputs = self(inputs).squeeze()\n",
    "                loss = criterion(outputs, labels)\n",
    "                loss.backward()\n",
    "                optimizer.step()\n",
    "                running_loss += loss.item() * inputs.size(0)\n",
    "\n",
    "            epoch_loss = running_loss / len(train_loader.dataset)\n",
    "\n",
    "            if val_loader:\n",
    "                f1 = self.evaluate(val_loader)\n",
    "                if f1 > best_f1:\n",
    "                    best_f1 = f1\n",
    "                if self.report:\n",
    "                    print(f'Epoch {epoch+1}/{self.epochs}, Loss: {epoch_loss:.4f}, F1: {f1:.2f}%')\n",
    "            else:\n",
    "                if self.report:\n",
    "                    print(f'Epoch {epoch+1}/{self.epochs}, Loss: {epoch_loss:.4f}')\n",
    "\n",
    "        return best_f1\n",
    "\n",
    "    def evaluate(self, dataloader):\n",
    "        self.eval()\n",
    "        all_labels = []\n",
    "        all_preds = []\n",
    "        with torch.no_grad():\n",
    "            for inputs, labels in dataloader:\n",
    "                outputs = self(inputs)\n",
    "                predicted = (outputs > 0.5).float()\n",
    "                all_labels.extend(labels.cpu().numpy())\n",
    "                all_preds.extend(predicted.cpu().numpy())\n",
    "\n",
    "        f1 = f1_score(all_labels, all_preds, average='binary') * 100\n",
    "        return f1\n",
    "\n",
    "    def predict(self, data):\n",
    "        \"\"\"\n",
    "        This function takes a list of floats as input and returns a single float between 0 and 1.\n",
    "        \"\"\"\n",
    "        if len(data) != self.input_size:\n",
    "            raise ValueError(f\"Input data must be a list of {self.input_size} floats.\")\n",
    "\n",
    "        # Convert data to a tensor\n",
    "        data_tensor = torch.tensor(data, dtype=torch.float).unsqueeze(0)  # Add batch dimension\n",
    "\n",
    "        # Forward pass through the network\n",
    "        self.eval()\n",
    "        with torch.no_grad():\n",
    "            output = self.forward(data_tensor)\n",
    "\n",
    "        return output.item()\n"
   ]
  },
  {
   "cell_type": "code",
   "execution_count": 23,
   "metadata": {},
   "outputs": [],
   "source": [
    "def data_loader(X, y, batch_size):\n",
    "    X = torch.tensor(X.values, dtype=torch.float32)\n",
    "    y = torch.tensor(y.values, dtype=torch.float32)\n",
    "\n",
    "    dataset = TensorDataset(X, y)\n",
    "\n",
    "    dataloader = DataLoader(dataset, batch_size=batch_size, shuffle=True)\n",
    "\n",
    "    return dataloader"
   ]
  },
  {
   "cell_type": "code",
   "execution_count": 35,
   "metadata": {},
   "outputs": [],
   "source": [
    "# create new validation subset from train split\n",
    "X_train, X_val, y_train, y_val = train_test_split(X_train, y_train, test_size=0.2)"
   ]
  },
  {
   "cell_type": "markdown",
   "metadata": {},
   "source": [
    "### Grid Search"
   ]
  },
  {
   "cell_type": "code",
   "execution_count": null,
   "metadata": {},
   "outputs": [],
   "source": [
    "input_size = 15 \n",
    "\n",
    "# Hyperparameter grid\n",
    "hidden_sizes = [4, 8, 16, 32, 64]\n",
    "activations = ['relu', 'leaky_relu', 'tanh', 'swish', 'gelu', 'selu']\n",
    "optimizers = ['adam', 'rmsprop', 'sgd']\n",
    "batch_sizes = [4, 8, 16, 32]\n",
    "regularizations = [0.0001, 0.001, 0.01]\n",
    "epochs_list = [5, 10, 20, 30, 50, 80, 100]\n",
    "learning_rates = [0.001, 0.01, 0.1]\n",
    "losses = ['mse', 'hinge', 'log']\n"
   ]
  },
  {
   "cell_type": "code",
   "execution_count": null,
   "metadata": {},
   "outputs": [],
   "source": [
    "MLP_PATH = os.path.join(MODELS_PATH, \"mlp\")"
   ]
  },
  {
   "cell_type": "code",
   "execution_count": null,
   "metadata": {},
   "outputs": [],
   "source": [
    "import itertools\n",
    "\n",
    "# Create all combinations\n",
    "hyperparameter_combinations = list(itertools.product(\n",
    "    hidden_sizes,\n",
    "    activations,\n",
    "    optimizers,\n",
    "    batch_sizes,\n",
    "    regularizations,\n",
    "    epochs_list,\n",
    "    learning_rates,\n",
    "    losses\n",
    "))\n",
    "\n",
    "print(f\"Total hyperparameter combinations: {len(hyperparameter_combinations)}\")\n",
    "\n",
    "# To store results\n",
    "results = []\n",
    "\n",
    "# Iterate through each combination\n",
    "for idx, (hidden_size, activation, optimizer_name, batch_size,\n",
    "          regularization, epochs, lr, loss_name) in enumerate(hyperparameter_combinations, 1):\n",
    "\n",
    "    print(f\"\\nRunning combination {idx}/{len(hyperparameter_combinations)}:\")\n",
    "    print(f\"Hidden Size: {hidden_size}, Activation: {activation}, Optimizer: {optimizer_name}, \"\n",
    "          f\"Batch Size: {batch_size}, Regularization: {regularization}, Epochs: {epochs}, \"\n",
    "          f\"Learning Rate: {lr}, Loss: {loss_name}\")\n",
    "\n",
    "    # Create DataLoaders with the current batch size\n",
    "    train_loader = data_loader(X_train, y_train, batch_size)\n",
    "    val_loader = data_loader(X_val, y_val, batch_size)\n",
    "\n",
    "    # Initialize the model with current hyperparameters\n",
    "    model = MultiLayerPerceptron(\n",
    "        input_size=input_size,\n",
    "        hidden_size=hidden_size,\n",
    "        activation=activation,\n",
    "        optimizer=optimizer_name,\n",
    "        batch_size=batch_size,\n",
    "        regularization=regularization,\n",
    "        epochs=epochs,\n",
    "        lr=lr,\n",
    "        loss=loss_name,\n",
    "        report=False\n",
    "    )\n",
    "\n",
    "    # Train the model and get the best F1 score\n",
    "    try:\n",
    "        best_f1 = model.train_model(train_loader, val_loader)\n",
    "    except Exception as e:\n",
    "        print(f\"Error during training: {e}\")\n",
    "        best_f1 = None\n",
    "\n",
    "    # Record the results\n",
    "    results.append({\n",
    "        'hidden_size': hidden_size,\n",
    "        'activation': activation,\n",
    "        'optimizer': optimizer_name,\n",
    "        'batch_size': batch_size,\n",
    "        'regularization': regularization,\n",
    "        'epochs': epochs,\n",
    "        'learning_rate': lr,\n",
    "        'loss': loss_name,\n",
    "        'best_f1': best_f1\n",
    "    })\n",
    "\n",
    "    # Optional: Save intermediate results to prevent data loss in case of interruptions\n",
    "    df = pd.DataFrame(results)\n",
    "    df.to_csv(os.path.join(MLP_PATH, 'grid_search_results.csv'), index=False)\n"
   ]
  },
  {
   "cell_type": "code",
   "execution_count": null,
   "metadata": {},
   "outputs": [],
   "source": [
    "# Convert results to DataFrame\n",
    "results_df = pd.DataFrame(results)\n",
    "\n",
    "# Drop combinations that failed (if any)\n",
    "results_df = results_df.dropna(subset=['best_f1'])\n",
    "\n",
    "# Find the best hyperparameter set\n",
    "best_result = results_df.loc[results_df['best_f1'].idxmax()]\n",
    "\n",
    "print(\"\\nBest Hyperparameter Combination:\")\n",
    "print(best_result)\n"
   ]
  },
  {
   "cell_type": "markdown",
   "metadata": {},
   "source": [
    "# Evaluation"
   ]
  },
  {
   "cell_type": "code",
   "execution_count": 46,
   "metadata": {},
   "outputs": [],
   "source": [
    "models = []\n",
    "eval_runtime = {}"
   ]
  },
  {
   "cell_type": "markdown",
   "metadata": {},
   "source": [
    "## kNN"
   ]
  },
  {
   "cell_type": "code",
   "execution_count": 47,
   "metadata": {},
   "outputs": [],
   "source": [
    "# model = joblib.load(os.path.join(MODELS_PATH, \"knn\", \"model.joblib\"))\n",
    "best_params = json.load(open(os.path.join(MODELS_PATH, \"knn\", \"best_params.json\"), 'r'))\n",
    "model = KNeighborsClassifier(**best_params)\n",
    "model.fit(X_train, y_train)\n",
    "models.append(model)"
   ]
  },
  {
   "cell_type": "code",
   "execution_count": 98,
   "metadata": {},
   "outputs": [],
   "source": [
    "model = models[0]"
   ]
  },
  {
   "cell_type": "code",
   "execution_count": 99,
   "metadata": {},
   "outputs": [],
   "source": [
    "# start\n",
    "start = datetime.now()\n",
    "y_pred = model.predict(X_test)\n",
    "# finish\n",
    "finish = datetime.now()\n",
    "runtime =  finish - start\n",
    "eval_runtime[\"knn\"] = int(runtime.microseconds)\n",
    "\n",
    "cm = confusion_matrix(y_test, y_pred)\n",
    "accuracy = accuracy_score(y_test, y_pred)\n",
    "recall = recall_score(y_test, y_pred)\n",
    "precision = precision_score(y_test, y_pred)\n",
    "f1 = f1_score(y_test, y_pred)\n",
    "\n",
    "results = {\n",
    "    \"f1_score\": f1,\n",
    "    \"accuracy\": accuracy,\n",
    "    \"precision\": precision,\n",
    "    \"recall\": recall,\n",
    "}"
   ]
  },
  {
   "cell_type": "code",
   "execution_count": 100,
   "metadata": {},
   "outputs": [
    {
     "data": {
      "text/plain": [
       "{'knn': 3003,\n",
       " 'logreg': 1998,\n",
       " 'bayes': 1624,\n",
       " 'svm': 1003,\n",
       " 'dt': 999,\n",
       " 'rf': 4005,\n",
       " 'xgb': 7002,\n",
       " 'mlp': 11329}"
      ]
     },
     "execution_count": 100,
     "metadata": {},
     "output_type": "execute_result"
    }
   ],
   "source": [
    "eval_runtime"
   ]
  },
  {
   "cell_type": "code",
   "execution_count": 101,
   "metadata": {},
   "outputs": [
    {
     "data": {
      "text/plain": [
       "{'f1_score': 0.8571428571428571,\n",
       " 'accuracy': 0.8214285714285714,\n",
       " 'precision': 0.7894736842105263,\n",
       " 'recall': 0.9375}"
      ]
     },
     "execution_count": 101,
     "metadata": {},
     "output_type": "execute_result"
    }
   ],
   "source": [
    "results"
   ]
  },
  {
   "cell_type": "code",
   "execution_count": 51,
   "metadata": {},
   "outputs": [
    {
     "data": {
      "image/png": "[encoded data removed]",
      "text/plain": [
       "<Figure size 640x480 with 2 Axes>"
      ]
     },
     "metadata": {},
     "output_type": "display_data"
    }
   ],
   "source": [
    "fig = sns.heatmap(cm, annot=True)\n",
    "plt.savefig(os.path.join(MODELS_PATH, \"knn\", \"confusion_matrix.svg\"), format='svg')"
   ]
  },
  {
   "cell_type": "markdown",
   "metadata": {},
   "source": [
    "## Logistic Regression"
   ]
  },
  {
   "cell_type": "code",
   "execution_count": 52,
   "metadata": {},
   "outputs": [],
   "source": [
    "# model = joblib.load(os.path.join(MODELS_PATH, \"logistic_regression\", \"model.joblib\"))\n",
    "best_params = json.load(open(os.path.join(MODELS_PATH, \"logistic_regression\", \"best_params.json\"), 'r'))\n",
    "model = LogisticRegression(**best_params)\n",
    "model.fit(X_train, y_train)\n",
    "models.append(model)"
   ]
  },
  {
   "cell_type": "code",
   "execution_count": 53,
   "metadata": {},
   "outputs": [],
   "source": [
    "# start\n",
    "start = datetime.now()\n",
    "y_pred = model.predict(X_test)\n",
    "# finish\n",
    "finish = datetime.now()\n",
    "runtime =  finish - start\n",
    "eval_runtime[\"logreg\"] = int(runtime.microseconds)\n",
    "\n",
    "cm = confusion_matrix(y_test, y_pred)\n",
    "accuracy = accuracy_score(y_test, y_pred)\n",
    "recall = recall_score(y_test, y_pred)\n",
    "precision = precision_score(y_test, y_pred)\n",
    "f1 = f1_score(y_test, y_pred)\n",
    "\n",
    "results = {\n",
    "    \"f1_score\": f1,\n",
    "    \"accuracy\": accuracy,\n",
    "    \"precision\": precision,\n",
    "    \"recall\": recall,\n",
    "}"
   ]
  },
  {
   "cell_type": "code",
   "execution_count": 54,
   "metadata": {},
   "outputs": [
    {
     "data": {
      "text/plain": [
       "{'knn': 5333, 'logreg': 1998}"
      ]
     },
     "execution_count": 54,
     "metadata": {},
     "output_type": "execute_result"
    }
   ],
   "source": [
    "eval_runtime"
   ]
  },
  {
   "cell_type": "code",
   "execution_count": 55,
   "metadata": {},
   "outputs": [
    {
     "data": {
      "text/plain": [
       "{'f1_score': 0.8108108108108109,\n",
       " 'accuracy': 0.75,\n",
       " 'precision': 0.7142857142857143,\n",
       " 'recall': 0.9375}"
      ]
     },
     "execution_count": 55,
     "metadata": {},
     "output_type": "execute_result"
    }
   ],
   "source": [
    "results"
   ]
  },
  {
   "cell_type": "code",
   "execution_count": 56,
   "metadata": {},
   "outputs": [
    {
     "data": {
      "image/png": "[encoded data removed]",
      "text/plain": [
       "<Figure size 640x480 with 2 Axes>"
      ]
     },
     "metadata": {},
     "output_type": "display_data"
    }
   ],
   "source": [
    "fig = sns.heatmap(cm, annot=True)\n",
    "plt.savefig(os.path.join(MODELS_PATH, \"logistic_regression\", \"confusion_matrix.svg\"), format='svg')"
   ]
  },
  {
   "cell_type": "markdown",
   "metadata": {},
   "source": [
    "## Naive Bayes"
   ]
  },
  {
   "cell_type": "code",
   "execution_count": 57,
   "metadata": {},
   "outputs": [],
   "source": [
    "# model = joblib.load(os.path.join(MODELS_PATH, \"naive_bayes\", \"model.joblib\"))\n",
    "best_params = json.load(open(os.path.join(MODELS_PATH, \"naive_bayes\", \"best_params.json\"), 'r'))\n",
    "model = GaussianNB(**best_params)\n",
    "model.fit(X_train, y_train)\n",
    "models.append(model)"
   ]
  },
  {
   "cell_type": "code",
   "execution_count": 94,
   "metadata": {},
   "outputs": [],
   "source": [
    "model = models[2]"
   ]
  },
  {
   "cell_type": "code",
   "execution_count": 95,
   "metadata": {},
   "outputs": [],
   "source": [
    "# start\n",
    "start = datetime.now()\n",
    "y_pred = model.predict(X_test)\n",
    "# finish\n",
    "finish = datetime.now()\n",
    "runtime =  finish - start\n",
    "eval_runtime[\"bayes\"] = int(runtime.microseconds)\n",
    "\n",
    "cm = confusion_matrix(y_test, y_pred)\n",
    "accuracy = accuracy_score(y_test, y_pred)\n",
    "recall = recall_score(y_test, y_pred)\n",
    "precision = precision_score(y_test, y_pred)\n",
    "f1 = f1_score(y_test, y_pred)\n",
    "\n",
    "results = {\n",
    "    \"f1_score\": f1,\n",
    "    \"accuracy\": accuracy,\n",
    "    \"precision\": precision,\n",
    "    \"recall\": recall,\n",
    "}"
   ]
  },
  {
   "cell_type": "code",
   "execution_count": 96,
   "metadata": {},
   "outputs": [
    {
     "data": {
      "text/plain": [
       "{'knn': 5333,\n",
       " 'logreg': 1998,\n",
       " 'bayes': 1624,\n",
       " 'svm': 1003,\n",
       " 'dt': 999,\n",
       " 'rf': 4005,\n",
       " 'xgb': 7002,\n",
       " 'mlp': 11329}"
      ]
     },
     "execution_count": 96,
     "metadata": {},
     "output_type": "execute_result"
    }
   ],
   "source": [
    "eval_runtime"
   ]
  },
  {
   "cell_type": "code",
   "execution_count": 97,
   "metadata": {},
   "outputs": [
    {
     "data": {
      "text/plain": [
       "{'f1_score': 0.7333333333333333,\n",
       " 'accuracy': 0.7142857142857143,\n",
       " 'precision': 0.7857142857142857,\n",
       " 'recall': 0.6875}"
      ]
     },
     "execution_count": 97,
     "metadata": {},
     "output_type": "execute_result"
    }
   ],
   "source": [
    "results"
   ]
  },
  {
   "cell_type": "code",
   "execution_count": 61,
   "metadata": {},
   "outputs": [
    {
     "data": {
      "image/png": "[encoded data removed]",
      "text/plain": [
       "<Figure size 640x480 with 2 Axes>"
      ]
     },
     "metadata": {},
     "output_type": "display_data"
    }
   ],
   "source": [
    "fig = sns.heatmap(cm, annot=True)\n",
    "plt.savefig(os.path.join(MODELS_PATH, \"logistic_regression\", \"confusion_matrix.svg\"), format='svg')"
   ]
  },
  {
   "cell_type": "markdown",
   "metadata": {},
   "source": [
    "## SVM"
   ]
  },
  {
   "cell_type": "code",
   "execution_count": 62,
   "metadata": {},
   "outputs": [],
   "source": [
    "# model = joblib.load(os.path.join(MODELS_PATH, \"svm\", \"model.joblib\"))\n",
    "best_params = json.load(open(os.path.join(MODELS_PATH, \"svm\", \"best_params.json\"), 'r'))\n",
    "best_params[\"probability\"] = True\n",
    "# Create SVC model\n",
    "model = SVC(**best_params)  # Set probability=True to use predict_proba\n",
    "\n",
    "# Train the model\n",
    "model.fit(X_train, y_train)\n",
    "\n",
    "models.append(model)"
   ]
  },
  {
   "cell_type": "code",
   "execution_count": 63,
   "metadata": {},
   "outputs": [],
   "source": [
    "# start\n",
    "start = datetime.now()\n",
    "y_pred = model.predict(X_test)\n",
    "# finish\n",
    "finish = datetime.now()\n",
    "runtime =  finish - start\n",
    "eval_runtime[\"svm\"] = int(runtime.microseconds)\n",
    "\n",
    "cm = confusion_matrix(y_test, y_pred)\n",
    "accuracy = accuracy_score(y_test, y_pred)\n",
    "recall = recall_score(y_test, y_pred)\n",
    "precision = precision_score(y_test, y_pred)\n",
    "f1 = f1_score(y_test, y_pred)\n",
    "\n",
    "results = {\n",
    "    \"f1_score\": f1,\n",
    "    \"accuracy\": accuracy,\n",
    "    \"precision\": precision,\n",
    "    \"recall\": recall,\n",
    "}"
   ]
  },
  {
   "cell_type": "code",
   "execution_count": 64,
   "metadata": {},
   "outputs": [
    {
     "data": {
      "text/plain": [
       "{'f1_score': 0.8421052631578947,\n",
       " 'accuracy': 0.7857142857142857,\n",
       " 'precision': 0.7272727272727273,\n",
       " 'recall': 1.0}"
      ]
     },
     "execution_count": 64,
     "metadata": {},
     "output_type": "execute_result"
    }
   ],
   "source": [
    "results"
   ]
  },
  {
   "cell_type": "code",
   "execution_count": 65,
   "metadata": {},
   "outputs": [
    {
     "data": {
      "image/png": "[encoded data removed]",
      "text/plain": [
       "<Figure size 640x480 with 2 Axes>"
      ]
     },
     "metadata": {},
     "output_type": "display_data"
    }
   ],
   "source": [
    "fig = sns.heatmap(cm, annot=True)\n",
    "plt.savefig(os.path.join(MODELS_PATH, \"logistic_regression\", \"confusion_matrix.svg\"), format='svg')"
   ]
  },
  {
   "cell_type": "markdown",
   "metadata": {},
   "source": [
    "## Decision Tree"
   ]
  },
  {
   "cell_type": "code",
   "execution_count": 66,
   "metadata": {},
   "outputs": [],
   "source": [
    "best_params = json.load(open(os.path.join(MODELS_PATH, \"decision_tree\", \"best_params.json\"), 'r'))\n",
    "model = DecisionTreeClassifier(**best_params)\n",
    "model.fit(X_train, y_train)\n",
    "models.append(model)"
   ]
  },
  {
   "cell_type": "code",
   "execution_count": null,
   "metadata": {},
   "outputs": [],
   "source": [
    "# start\n",
    "start = datetime.now()\n",
    "y_pred = model.predict(X_test)\n",
    "# finish\n",
    "finish = datetime.now()\n",
    "runtime =  finish - start\n",
    "eval_runtime[\"dt\"] = int(runtime.microseconds)\n",
    "\n",
    "cm = confusion_matrix(y_test, y_pred)\n",
    "accuracy = accuracy_score(y_test, y_pred)\n",
    "recall = recall_score(y_test, y_pred)\n",
    "precision = precision_score(y_test, y_pred)\n",
    "f1 = f1_score(y_test, y_pred)\n",
    "\n",
    "results = {\n",
    "    \"f1_score\": f1,\n",
    "    \"accuracy\": accuracy,\n",
    "    \"precision\": precision,\n",
    "    \"recall\": recall,\n",
    "}"
   ]
  },
  {
   "cell_type": "code",
   "execution_count": 68,
   "metadata": {},
   "outputs": [
    {
     "data": {
      "text/plain": [
       "{'f1_score': 0.7096774193548387,\n",
       " 'accuracy': 0.6785714285714286,\n",
       " 'precision': 0.7333333333333333,\n",
       " 'recall': 0.6875}"
      ]
     },
     "execution_count": 68,
     "metadata": {},
     "output_type": "execute_result"
    }
   ],
   "source": [
    "results"
   ]
  },
  {
   "cell_type": "code",
   "execution_count": 69,
   "metadata": {},
   "outputs": [
    {
     "data": {
      "image/png": "[encoded data removed]",
      "text/plain": [
       "<Figure size 640x480 with 2 Axes>"
      ]
     },
     "metadata": {},
     "output_type": "display_data"
    }
   ],
   "source": [
    "fig = sns.heatmap(cm, annot=True)\n",
    "plt.savefig(os.path.join(MODELS_PATH, \"logistic_regression\", \"confusion_matrix.svg\"), format='svg')"
   ]
  },
  {
   "cell_type": "markdown",
   "metadata": {},
   "source": [
    "## Random Forest"
   ]
  },
  {
   "cell_type": "code",
   "execution_count": 70,
   "metadata": {},
   "outputs": [
    {
     "name": "stderr",
     "output_type": "stream",
     "text": [
      "c:\\Users\\FUJITSU\\AppData\\Local\\Programs\\Python\\Python311\\Lib\\site-packages\\sklearn\\ensemble\\_forest.py:861: UserWarning: class_weight presets \"balanced\" or \"balanced_subsample\" are not recommended for warm_start if the fitted data differs from the full dataset. In order to use \"balanced\" weights, use compute_class_weight (\"balanced\", classes, y). In place of y you can use a large enough sample of the full training set target to properly estimate the class frequency distributions. Pass the resulting weights as the class_weight parameter.\n",
      "  warn(\n"
     ]
    }
   ],
   "source": [
    "# model = joblib.load(os.path.join(MODELS_PATH, \"random_forest\", \"model.joblib\"))\n",
    "best_params = json.load(open(os.path.join(MODELS_PATH, \"random_forest\", \"best_params.json\"), 'r'))\n",
    "model = RandomForestClassifier(**best_params)\n",
    "model.fit(X_train, y_train)\n",
    "models.append(model)"
   ]
  },
  {
   "cell_type": "code",
   "execution_count": 71,
   "metadata": {},
   "outputs": [],
   "source": [
    "# start\n",
    "start = datetime.now()\n",
    "y_pred = model.predict(X_test)\n",
    "# finish\n",
    "finish = datetime.now()\n",
    "runtime =  finish - start\n",
    "eval_runtime[\"rf\"] = int(runtime.microseconds)\n",
    "\n",
    "cm = confusion_matrix(y_test, y_pred)\n",
    "accuracy = accuracy_score(y_test, y_pred)\n",
    "recall = recall_score(y_test, y_pred)\n",
    "precision = precision_score(y_test, y_pred)\n",
    "f1 = f1_score(y_test, y_pred)\n",
    "\n",
    "results = {\n",
    "    \"f1_score\": f1,\n",
    "    \"accuracy\": accuracy,\n",
    "    \"precision\": precision,\n",
    "    \"recall\": recall,\n",
    "}"
   ]
  },
  {
   "cell_type": "code",
   "execution_count": 72,
   "metadata": {},
   "outputs": [
    {
     "data": {
      "text/plain": [
       "{'f1_score': 0.8235294117647058,\n",
       " 'accuracy': 0.7857142857142857,\n",
       " 'precision': 0.7777777777777778,\n",
       " 'recall': 0.875}"
      ]
     },
     "execution_count": 72,
     "metadata": {},
     "output_type": "execute_result"
    }
   ],
   "source": [
    "results"
   ]
  },
  {
   "cell_type": "code",
   "execution_count": 73,
   "metadata": {},
   "outputs": [
    {
     "data": {
      "image/png": "[encoded data removed]",
      "text/plain": [
       "<Figure size 640x480 with 2 Axes>"
      ]
     },
     "metadata": {},
     "output_type": "display_data"
    }
   ],
   "source": [
    "fig = sns.heatmap(cm, annot=True)\n",
    "plt.savefig(os.path.join(MODELS_PATH, \"logistic_regression\", \"confusion_matrix.svg\"), format='svg')"
   ]
  },
  {
   "cell_type": "markdown",
   "metadata": {},
   "source": [
    "## XGBoost"
   ]
  },
  {
   "cell_type": "code",
   "execution_count": 74,
   "metadata": {},
   "outputs": [],
   "source": [
    "# model = joblib.load(os.path.join(MODELS_PATH, \"xgboost\", \"model.joblib\"))\n",
    "best_params = json.load(open(os.path.join(MODELS_PATH, \"xgboost\", \"best_params.json\"), 'r'))\n",
    "model = XGBClassifier(**best_params)\n",
    "model.fit(X_train, y_train)\n",
    "models.append(model)"
   ]
  },
  {
   "cell_type": "code",
   "execution_count": 75,
   "metadata": {},
   "outputs": [],
   "source": [
    "# start\n",
    "start = datetime.now()\n",
    "y_pred = model.predict(X_test)\n",
    "# finish\n",
    "finish = datetime.now()\n",
    "runtime =  finish - start\n",
    "eval_runtime[\"xgb\"] = int(runtime.microseconds)\n",
    "\n",
    "cm = confusion_matrix(y_test, y_pred)\n",
    "accuracy = accuracy_score(y_test, y_pred)\n",
    "recall = recall_score(y_test, y_pred)\n",
    "precision = precision_score(y_test, y_pred)\n",
    "f1 = f1_score(y_test, y_pred)\n",
    "\n",
    "results = {\n",
    "    \"f1_score\": f1,\n",
    "    \"accuracy\": accuracy,\n",
    "    \"precision\": precision,\n",
    "    \"recall\": recall,\n",
    "}"
   ]
  },
  {
   "cell_type": "code",
   "execution_count": 76,
   "metadata": {},
   "outputs": [
    {
     "data": {
      "text/plain": [
       "{'f1_score': 0.8108108108108109,\n",
       " 'accuracy': 0.75,\n",
       " 'precision': 0.7142857142857143,\n",
       " 'recall': 0.9375}"
      ]
     },
     "execution_count": 76,
     "metadata": {},
     "output_type": "execute_result"
    }
   ],
   "source": [
    "results"
   ]
  },
  {
   "cell_type": "code",
   "execution_count": 77,
   "metadata": {},
   "outputs": [
    {
     "data": {
      "image/png": "[encoded data removed]",
      "text/plain": [
       "<Figure size 640x480 with 2 Axes>"
      ]
     },
     "metadata": {},
     "output_type": "display_data"
    }
   ],
   "source": [
    "fig = sns.heatmap(cm, annot=True)\n",
    "plt.savefig(os.path.join(MODELS_PATH, \"logistic_regression\", \"confusion_matrix.svg\"), format='svg')"
   ]
  },
  {
   "cell_type": "markdown",
   "metadata": {},
   "source": [
    "## MLP (ANN)"
   ]
  },
  {
   "cell_type": "code",
   "execution_count": 78,
   "metadata": {},
   "outputs": [
    {
     "name": "stdout",
     "output_type": "stream",
     "text": [
      "Epoch 1/50, Loss: 0.2913, F1: 88.89%\n",
      "Epoch 2/50, Loss: 0.1731, F1: 88.89%\n",
      "Epoch 3/50, Loss: 0.1503, F1: 88.89%\n",
      "Epoch 4/50, Loss: 0.1506, F1: 87.50%\n",
      "Epoch 5/50, Loss: 0.1381, F1: 87.50%\n",
      "Epoch 6/50, Loss: 0.1358, F1: 82.35%\n",
      "Epoch 7/50, Loss: 0.1271, F1: 87.50%\n",
      "Epoch 8/50, Loss: 0.1250, F1: 87.50%\n",
      "Epoch 9/50, Loss: 0.1241, F1: 94.12%\n",
      "Epoch 10/50, Loss: 0.1265, F1: 94.12%\n",
      "Epoch 11/50, Loss: 0.1289, F1: 87.50%\n",
      "Epoch 12/50, Loss: 0.1268, F1: 88.89%\n",
      "Epoch 13/50, Loss: 0.1288, F1: 88.89%\n",
      "Epoch 14/50, Loss: 0.1096, F1: 94.12%\n",
      "Epoch 15/50, Loss: 0.1172, F1: 94.12%\n",
      "Epoch 16/50, Loss: 0.1167, F1: 88.89%\n",
      "Epoch 17/50, Loss: 0.1091, F1: 94.12%\n",
      "Epoch 18/50, Loss: 0.1110, F1: 94.12%\n",
      "Epoch 19/50, Loss: 0.1177, F1: 94.12%\n",
      "Epoch 20/50, Loss: 0.1015, F1: 94.12%\n",
      "Epoch 21/50, Loss: 0.1016, F1: 94.12%\n",
      "Epoch 22/50, Loss: 0.0966, F1: 94.12%\n",
      "Epoch 23/50, Loss: 0.0983, F1: 94.12%\n",
      "Epoch 24/50, Loss: 0.1031, F1: 94.12%\n",
      "Epoch 25/50, Loss: 0.0981, F1: 88.89%\n",
      "Epoch 26/50, Loss: 0.1000, F1: 88.89%\n",
      "Epoch 27/50, Loss: 0.0926, F1: 94.12%\n",
      "Epoch 28/50, Loss: 0.0933, F1: 88.89%\n",
      "Epoch 29/50, Loss: 0.0945, F1: 94.12%\n",
      "Epoch 30/50, Loss: 0.0915, F1: 94.12%\n",
      "Epoch 31/50, Loss: 0.1010, F1: 94.12%\n",
      "Epoch 32/50, Loss: 0.0946, F1: 88.89%\n",
      "Epoch 33/50, Loss: 0.0975, F1: 94.12%\n",
      "Epoch 34/50, Loss: 0.0955, F1: 94.12%\n",
      "Epoch 35/50, Loss: 0.0924, F1: 94.12%\n",
      "Epoch 36/50, Loss: 0.0943, F1: 94.12%\n",
      "Epoch 37/50, Loss: 0.0961, F1: 94.12%\n",
      "Epoch 38/50, Loss: 0.0918, F1: 94.12%\n",
      "Epoch 39/50, Loss: 0.0914, F1: 94.12%\n",
      "Epoch 40/50, Loss: 0.0926, F1: 94.12%\n",
      "Epoch 41/50, Loss: 0.0922, F1: 88.89%\n",
      "Epoch 42/50, Loss: 0.1083, F1: 94.12%\n",
      "Epoch 43/50, Loss: 0.0994, F1: 94.12%\n",
      "Epoch 44/50, Loss: 0.0993, F1: 94.12%\n",
      "Epoch 45/50, Loss: 0.0923, F1: 94.12%\n",
      "Epoch 46/50, Loss: 0.0896, F1: 94.12%\n",
      "Epoch 47/50, Loss: 0.0915, F1: 94.12%\n",
      "Epoch 48/50, Loss: 0.0914, F1: 94.12%\n",
      "Epoch 49/50, Loss: 0.0882, F1: 94.12%\n",
      "Epoch 50/50, Loss: 0.0889, F1: 94.12%\n"
     ]
    }
   ],
   "source": [
    "best_params = json.load(open(os.path.join(MODELS_PATH, \"mlp\", \"best_params.json\"), 'r'))\n",
    "best_params[\"lr\"] = best_params[\"learning_rate\"]\n",
    "best_params[\"input_size\"] = 15\n",
    "del best_params[\"learning_rate\"]\n",
    "model = MultiLayerPerceptron(**best_params)\n",
    "\n",
    "X_train, X_val, y_train, y_val = train_test_split(X_train, y_train, test_size=0.1, random_state=1234)\n",
    "\n",
    "\n",
    "model.train_model(data_loader(X_train, y_train, best_params[\"batch_size\"]), data_loader(X_val, y_val, best_params[\"batch_size\"]))\n",
    "models.append(model)"
   ]
  },
  {
   "cell_type": "code",
   "execution_count": 79,
   "metadata": {},
   "outputs": [],
   "source": [
    "# start\n",
    "start = datetime.now()\n",
    "\n",
    "y_pred = []\n",
    "for _, elem in X_test.iterrows():\n",
    "    pred = model.predict(list(elem))\n",
    "    pred = 1 if pred > 0.5 else 0\n",
    "    y_pred.append(pred)\n",
    "\n",
    "# finish\n",
    "finish = datetime.now()\n",
    "runtime =  finish - start\n",
    "eval_runtime[\"mlp\"] = int(runtime.microseconds)\n",
    "\n",
    "cm = confusion_matrix(y_test, y_pred)\n",
    "accuracy = accuracy_score(y_test, y_pred)\n",
    "recall = recall_score(y_test, y_pred)\n",
    "precision = precision_score(y_test, y_pred)\n",
    "f1 = f1_score(y_test, y_pred)\n",
    "\n",
    "results = {\n",
    "    \"f1_score\": f1,\n",
    "    \"accuracy\": accuracy,\n",
    "    \"precision\": precision,\n",
    "    \"recall\": recall,\n",
    "}"
   ]
  },
  {
   "cell_type": "code",
   "execution_count": 80,
   "metadata": {},
   "outputs": [
    {
     "data": {
      "text/plain": [
       "{'f1_score': 0.8235294117647058,\n",
       " 'accuracy': 0.7857142857142857,\n",
       " 'precision': 0.7777777777777778,\n",
       " 'recall': 0.875}"
      ]
     },
     "execution_count": 80,
     "metadata": {},
     "output_type": "execute_result"
    }
   ],
   "source": [
    "results"
   ]
  },
  {
   "cell_type": "code",
   "execution_count": 81,
   "metadata": {},
   "outputs": [
    {
     "data": {
      "image/png": "[encoded data removed]",
      "text/plain": [
       "<Figure size 640x480 with 2 Axes>"
      ]
     },
     "metadata": {},
     "output_type": "display_data"
    }
   ],
   "source": [
    "fig = sns.heatmap(cm, annot=True)\n",
    "plt.savefig(os.path.join(MODELS_PATH, \"logistic_regression\", \"confusion_matrix.svg\"), format='svg')"
   ]
  },
  {
   "cell_type": "markdown",
   "metadata": {},
   "source": [
    "# ROC & AUC"
   ]
  },
  {
   "cell_type": "code",
   "execution_count": 82,
   "metadata": {},
   "outputs": [],
   "source": [
    "labels = [\"kNN\", \"Logistic Regression\", \"Naive Bayes\", \"SVM\", \"Decision Tree\", \"Random Forest\", \"XGBoost\", \"MLP\"]"
   ]
  },
  {
   "cell_type": "code",
   "execution_count": 83,
   "metadata": {},
   "outputs": [
    {
     "data": {
      "image/png": "[encoded data removed]",
      "text/plain": [
       "<Figure size 800x600 with 1 Axes>"
      ]
     },
     "metadata": {},
     "output_type": "display_data"
    }
   ],
   "source": [
    "plt.figure(figsize=(8, 6))\n",
    "\n",
    "for model, label in zip(models, labels):\n",
    "    if label == \"MLP\":\n",
    "        y_pred_prob = []\n",
    "        for _, elem in X_test.iterrows():\n",
    "            pred = model.predict(list(elem))\n",
    "            y_pred_prob.append(pred)\n",
    "    else:\n",
    "        y_pred_prob = model.predict_proba(X_test)[:, 1]  # Assuming binary classification\n",
    "    fpr, tpr, _ = roc_curve(y_test, y_pred_prob)\n",
    "    roc_auc = auc(fpr, tpr)\n",
    "    plt.plot(fpr, tpr, label=f'{label} (AUC={roc_auc:.2f})')\n",
    "\n",
    "# Add labels, legend, and title\n",
    "plt.xlabel('False Positive Rate')\n",
    "plt.ylabel('True Positive Rate')\n",
    "plt.title('Receiver Operating Characteristic (ROC) Curve')\n",
    "plt.legend()\n",
    "plt.savefig(os.path.join(MODELS_PATH, \"roc_curve.svg\"), format='svg')\n",
    "plt.show()"
   ]
  },
  {
   "cell_type": "code",
   "execution_count": 84,
   "metadata": {},
   "outputs": [
    {
     "data": {
      "image/png": "[encoded data removed]",
      "text/plain": [
       "<Figure size 640x480 with 1 Axes>"
      ]
     },
     "metadata": {},
     "output_type": "display_data"
    }
   ],
   "source": [
    "fig = sns.lineplot(eval_runtime)\n",
    "plt.savefig(os.path.join(MODELS_PATH, \"eval_runtime.svg\"), format='svg')"
   ]
  },
  {
   "cell_type": "code",
   "execution_count": null,
   "metadata": {},
   "outputs": [],
   "source": []
  }
 ],
 "metadata": {
  "kernelspec": {
   "display_name": "Python 3",
   "language": "python",
   "name": "python3"
  },
  "language_info": {
   "codemirror_mode": {
    "name": "ipython",
    "version": 3
   },
   "file_extension": ".py",
   "mimetype": "text/x-python",
   "name": "python",
   "nbconvert_exporter": "python",
   "pygments_lexer": "ipython3",
   "version": "3.11.9"
  }
 },
 "nbformat": 4,
 "nbformat_minor": 2
}
